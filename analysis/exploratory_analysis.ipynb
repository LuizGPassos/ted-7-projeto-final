{
 "cells": [
  {
   "cell_type": "markdown",
   "metadata": {},
   "source": [
    "# Imports e Dependências"
   ]
  },
  {
   "cell_type": "code",
   "execution_count": 101,
   "metadata": {},
   "outputs": [],
   "source": [
    "import pandas as pd\n",
    "import matplotlib.pyplot as plt\n",
    "import seaborn as sns\n",
    "import numpy as np"
   ]
  },
  {
   "cell_type": "markdown",
   "metadata": {},
   "source": [
    "# Dataset"
   ]
  },
  {
   "cell_type": "code",
   "execution_count": 102,
   "metadata": {},
   "outputs": [
    {
     "data": {
      "text/html": [
       "<div>\n",
       "<style scoped>\n",
       "    .dataframe tbody tr th:only-of-type {\n",
       "        vertical-align: middle;\n",
       "    }\n",
       "\n",
       "    .dataframe tbody tr th {\n",
       "        vertical-align: top;\n",
       "    }\n",
       "\n",
       "    .dataframe thead th {\n",
       "        text-align: right;\n",
       "    }\n",
       "</style>\n",
       "<table border=\"1\" class=\"dataframe\">\n",
       "  <thead>\n",
       "    <tr style=\"text-align: right;\">\n",
       "      <th></th>\n",
       "      <th>adult</th>\n",
       "      <th>budget</th>\n",
       "      <th>id</th>\n",
       "      <th>origin_country</th>\n",
       "      <th>original_language</th>\n",
       "      <th>original_title</th>\n",
       "      <th>overview</th>\n",
       "      <th>popularity</th>\n",
       "      <th>release_date</th>\n",
       "      <th>revenue</th>\n",
       "      <th>...</th>\n",
       "      <th>status</th>\n",
       "      <th>tagline</th>\n",
       "      <th>title</th>\n",
       "      <th>video</th>\n",
       "      <th>vote_average</th>\n",
       "      <th>vote_count</th>\n",
       "      <th>ingestion_date</th>\n",
       "      <th>genre</th>\n",
       "      <th>company</th>\n",
       "      <th>country</th>\n",
       "    </tr>\n",
       "  </thead>\n",
       "  <tbody>\n",
       "    <tr>\n",
       "      <th>0</th>\n",
       "      <td>False</td>\n",
       "      <td>0</td>\n",
       "      <td>1151470</td>\n",
       "      <td>['US']</td>\n",
       "      <td>en</td>\n",
       "      <td>The Vigilante</td>\n",
       "      <td>Returning from Afghanistan, Jessica, a Spec OP...</td>\n",
       "      <td>1718.486125</td>\n",
       "      <td>2023-09-08</td>\n",
       "      <td>0</td>\n",
       "      <td>...</td>\n",
       "      <td>Released</td>\n",
       "      <td>She will find you.</td>\n",
       "      <td>The Vigilante</td>\n",
       "      <td>False</td>\n",
       "      <td>5.850</td>\n",
       "      <td>20</td>\n",
       "      <td>2025-03-24</td>\n",
       "      <td>Thriller</td>\n",
       "      <td>Shattered Images Films</td>\n",
       "      <td>United States of America</td>\n",
       "    </tr>\n",
       "    <tr>\n",
       "      <th>1</th>\n",
       "      <td>False</td>\n",
       "      <td>0</td>\n",
       "      <td>1125899</td>\n",
       "      <td>['GB']</td>\n",
       "      <td>en</td>\n",
       "      <td>Cleaner</td>\n",
       "      <td>When a group of radical activists take over an...</td>\n",
       "      <td>1510.943375</td>\n",
       "      <td>2025-02-19</td>\n",
       "      <td>0</td>\n",
       "      <td>...</td>\n",
       "      <td>Released</td>\n",
       "      <td>The stakes are a thousand feet high.</td>\n",
       "      <td>Cleaner</td>\n",
       "      <td>False</td>\n",
       "      <td>5.800</td>\n",
       "      <td>46</td>\n",
       "      <td>2025-03-24</td>\n",
       "      <td>Action</td>\n",
       "      <td>Anton</td>\n",
       "      <td>United Kingdom</td>\n",
       "    </tr>\n",
       "    <tr>\n",
       "      <th>2</th>\n",
       "      <td>False</td>\n",
       "      <td>0</td>\n",
       "      <td>1301650</td>\n",
       "      <td>['MN']</td>\n",
       "      <td>mn</td>\n",
       "      <td>Z Zone</td>\n",
       "      <td>In a remote corner of the world, a group of tr...</td>\n",
       "      <td>1296.425625</td>\n",
       "      <td>2025-02-07</td>\n",
       "      <td>0</td>\n",
       "      <td>...</td>\n",
       "      <td>Released</td>\n",
       "      <td>NaN</td>\n",
       "      <td>Z Zone</td>\n",
       "      <td>False</td>\n",
       "      <td>7.600</td>\n",
       "      <td>9</td>\n",
       "      <td>2025-03-24</td>\n",
       "      <td>Horror</td>\n",
       "      <td>NaN</td>\n",
       "      <td>Mongolia</td>\n",
       "    </tr>\n",
       "    <tr>\n",
       "      <th>3</th>\n",
       "      <td>False</td>\n",
       "      <td>270000000</td>\n",
       "      <td>447273</td>\n",
       "      <td>['US']</td>\n",
       "      <td>en</td>\n",
       "      <td>Snow White</td>\n",
       "      <td>Princess Snow White flees the castle when the ...</td>\n",
       "      <td>1114.221625</td>\n",
       "      <td>2025-03-19</td>\n",
       "      <td>87000000</td>\n",
       "      <td>...</td>\n",
       "      <td>Released</td>\n",
       "      <td>The classic tale comes to life.</td>\n",
       "      <td>Snow White</td>\n",
       "      <td>False</td>\n",
       "      <td>4.664</td>\n",
       "      <td>256</td>\n",
       "      <td>2025-03-24</td>\n",
       "      <td>Family</td>\n",
       "      <td>Walt Disney Pictures</td>\n",
       "      <td>United States of America</td>\n",
       "    </tr>\n",
       "    <tr>\n",
       "      <th>4</th>\n",
       "      <td>False</td>\n",
       "      <td>180000000</td>\n",
       "      <td>822119</td>\n",
       "      <td>['US']</td>\n",
       "      <td>en</td>\n",
       "      <td>Captain America: Brave New World</td>\n",
       "      <td>After meeting with newly elected U.S. Presiden...</td>\n",
       "      <td>1794.803500</td>\n",
       "      <td>2025-02-12</td>\n",
       "      <td>400056272</td>\n",
       "      <td>...</td>\n",
       "      <td>Released</td>\n",
       "      <td>The future favors the brave.</td>\n",
       "      <td>Captain America: Brave New World</td>\n",
       "      <td>False</td>\n",
       "      <td>6.100</td>\n",
       "      <td>1090</td>\n",
       "      <td>2025-03-24</td>\n",
       "      <td>Action</td>\n",
       "      <td>Marvel Studios</td>\n",
       "      <td>United States of America</td>\n",
       "    </tr>\n",
       "  </tbody>\n",
       "</table>\n",
       "<p>5 rows × 22 columns</p>\n",
       "</div>"
      ],
      "text/plain": [
       "   adult     budget       id origin_country original_language  \\\n",
       "0  False          0  1151470         ['US']                en   \n",
       "1  False          0  1125899         ['GB']                en   \n",
       "2  False          0  1301650         ['MN']                mn   \n",
       "3  False  270000000   447273         ['US']                en   \n",
       "4  False  180000000   822119         ['US']                en   \n",
       "\n",
       "                     original_title  \\\n",
       "0                     The Vigilante   \n",
       "1                           Cleaner   \n",
       "2                            Z Zone   \n",
       "3                        Snow White   \n",
       "4  Captain America: Brave New World   \n",
       "\n",
       "                                            overview   popularity  \\\n",
       "0  Returning from Afghanistan, Jessica, a Spec OP...  1718.486125   \n",
       "1  When a group of radical activists take over an...  1510.943375   \n",
       "2  In a remote corner of the world, a group of tr...  1296.425625   \n",
       "3  Princess Snow White flees the castle when the ...  1114.221625   \n",
       "4  After meeting with newly elected U.S. Presiden...  1794.803500   \n",
       "\n",
       "  release_date    revenue  ...    status  \\\n",
       "0   2023-09-08          0  ...  Released   \n",
       "1   2025-02-19          0  ...  Released   \n",
       "2   2025-02-07          0  ...  Released   \n",
       "3   2025-03-19   87000000  ...  Released   \n",
       "4   2025-02-12  400056272  ...  Released   \n",
       "\n",
       "                                tagline                             title  \\\n",
       "0                    She will find you.                     The Vigilante   \n",
       "1  The stakes are a thousand feet high.                           Cleaner   \n",
       "2                                   NaN                            Z Zone   \n",
       "3       The classic tale comes to life.                        Snow White   \n",
       "4          The future favors the brave.  Captain America: Brave New World   \n",
       "\n",
       "   video vote_average  vote_count  ingestion_date     genre  \\\n",
       "0  False        5.850          20      2025-03-24  Thriller   \n",
       "1  False        5.800          46      2025-03-24    Action   \n",
       "2  False        7.600           9      2025-03-24    Horror   \n",
       "3  False        4.664         256      2025-03-24    Family   \n",
       "4  False        6.100        1090      2025-03-24    Action   \n",
       "\n",
       "                  company                   country  \n",
       "0  Shattered Images Films  United States of America  \n",
       "1                   Anton            United Kingdom  \n",
       "2                     NaN                  Mongolia  \n",
       "3    Walt Disney Pictures  United States of America  \n",
       "4          Marvel Studios  United States of America  \n",
       "\n",
       "[5 rows x 22 columns]"
      ]
     },
     "execution_count": 102,
     "metadata": {},
     "output_type": "execute_result"
    }
   ],
   "source": [
    "df = pd.read_csv('./dataset/movie_dataset_silver.csv')\n",
    "df = df.drop(columns=['Unnamed: 0'])\n",
    "df.head()"
   ]
  },
  {
   "cell_type": "markdown",
   "metadata": {},
   "source": [
    "# Análise Exploratória e Estatística"
   ]
  },
  {
   "cell_type": "markdown",
   "metadata": {},
   "source": [
    "### Converte colunas de datas"
   ]
  },
  {
   "cell_type": "code",
   "execution_count": 103,
   "metadata": {},
   "outputs": [
    {
     "name": "stdout",
     "output_type": "stream",
     "text": [
      "<class 'pandas.core.frame.DataFrame'>\n",
      "RangeIndex: 600 entries, 0 to 599\n",
      "Data columns (total 22 columns):\n",
      " #   Column             Non-Null Count  Dtype         \n",
      "---  ------             --------------  -----         \n",
      " 0   adult              600 non-null    bool          \n",
      " 1   budget             600 non-null    int64         \n",
      " 2   id                 600 non-null    int64         \n",
      " 3   origin_country     600 non-null    object        \n",
      " 4   original_language  600 non-null    object        \n",
      " 5   original_title     600 non-null    object        \n",
      " 6   overview           598 non-null    object        \n",
      " 7   popularity         600 non-null    float64       \n",
      " 8   release_date       600 non-null    datetime64[ns]\n",
      " 9   revenue            600 non-null    int64         \n",
      " 10  runtime            600 non-null    int64         \n",
      " 11  spoken_languages   580 non-null    object        \n",
      " 12  status             600 non-null    object        \n",
      " 13  tagline            467 non-null    object        \n",
      " 14  title              600 non-null    object        \n",
      " 15  video              600 non-null    bool          \n",
      " 16  vote_average       600 non-null    float64       \n",
      " 17  vote_count         600 non-null    int64         \n",
      " 18  ingestion_date     600 non-null    datetime64[ns]\n",
      " 19  genre              596 non-null    object        \n",
      " 20  company            577 non-null    object        \n",
      " 21  country            593 non-null    object        \n",
      "dtypes: bool(2), datetime64[ns](2), float64(2), int64(5), object(11)\n",
      "memory usage: 95.1+ KB\n"
     ]
    }
   ],
   "source": [
    "df['release_date'] = pd.to_datetime(df['release_date'])\n",
    "df['ingestion_date'] = pd.to_datetime(df['ingestion_date'])\n",
    "df.info()"
   ]
  },
  {
   "cell_type": "markdown",
   "metadata": {},
   "source": [
    "### Informações da tabela"
   ]
  },
  {
   "cell_type": "code",
   "execution_count": 104,
   "metadata": {},
   "outputs": [
    {
     "name": "stdout",
     "output_type": "stream",
     "text": [
      "<class 'pandas.core.frame.DataFrame'>\n",
      "RangeIndex: 600 entries, 0 to 599\n",
      "Data columns (total 22 columns):\n",
      " #   Column             Non-Null Count  Dtype         \n",
      "---  ------             --------------  -----         \n",
      " 0   adult              600 non-null    bool          \n",
      " 1   budget             600 non-null    int64         \n",
      " 2   id                 600 non-null    int64         \n",
      " 3   origin_country     600 non-null    object        \n",
      " 4   original_language  600 non-null    object        \n",
      " 5   original_title     600 non-null    object        \n",
      " 6   overview           598 non-null    object        \n",
      " 7   popularity         600 non-null    float64       \n",
      " 8   release_date       600 non-null    datetime64[ns]\n",
      " 9   revenue            600 non-null    int64         \n",
      " 10  runtime            600 non-null    int64         \n",
      " 11  spoken_languages   580 non-null    object        \n",
      " 12  status             600 non-null    object        \n",
      " 13  tagline            467 non-null    object        \n",
      " 14  title              600 non-null    object        \n",
      " 15  video              600 non-null    bool          \n",
      " 16  vote_average       600 non-null    float64       \n",
      " 17  vote_count         600 non-null    int64         \n",
      " 18  ingestion_date     600 non-null    datetime64[ns]\n",
      " 19  genre              596 non-null    object        \n",
      " 20  company            577 non-null    object        \n",
      " 21  country            593 non-null    object        \n",
      "dtypes: bool(2), datetime64[ns](2), float64(2), int64(5), object(11)\n",
      "memory usage: 95.1+ KB\n"
     ]
    }
   ],
   "source": [
    "df.info()"
   ]
  },
  {
   "cell_type": "code",
   "execution_count": 105,
   "metadata": {},
   "outputs": [
    {
     "data": {
      "text/html": [
       "<div>\n",
       "<style scoped>\n",
       "    .dataframe tbody tr th:only-of-type {\n",
       "        vertical-align: middle;\n",
       "    }\n",
       "\n",
       "    .dataframe tbody tr th {\n",
       "        vertical-align: top;\n",
       "    }\n",
       "\n",
       "    .dataframe thead th {\n",
       "        text-align: right;\n",
       "    }\n",
       "</style>\n",
       "<table border=\"1\" class=\"dataframe\">\n",
       "  <thead>\n",
       "    <tr style=\"text-align: right;\">\n",
       "      <th></th>\n",
       "      <th>budget</th>\n",
       "      <th>id</th>\n",
       "      <th>popularity</th>\n",
       "      <th>release_date</th>\n",
       "      <th>revenue</th>\n",
       "      <th>runtime</th>\n",
       "      <th>vote_average</th>\n",
       "      <th>vote_count</th>\n",
       "      <th>ingestion_date</th>\n",
       "    </tr>\n",
       "  </thead>\n",
       "  <tbody>\n",
       "    <tr>\n",
       "      <th>count</th>\n",
       "      <td>6.000000e+02</td>\n",
       "      <td>6.000000e+02</td>\n",
       "      <td>600.000000</td>\n",
       "      <td>600</td>\n",
       "      <td>6.000000e+02</td>\n",
       "      <td>600.000000</td>\n",
       "      <td>600.000000</td>\n",
       "      <td>600.000000</td>\n",
       "      <td>600</td>\n",
       "    </tr>\n",
       "    <tr>\n",
       "      <th>mean</th>\n",
       "      <td>6.203911e+07</td>\n",
       "      <td>6.032627e+05</td>\n",
       "      <td>111.425041</td>\n",
       "      <td>2015-03-28 21:55:12</td>\n",
       "      <td>2.878245e+08</td>\n",
       "      <td>112.165000</td>\n",
       "      <td>6.720020</td>\n",
       "      <td>6486.865000</td>\n",
       "      <td>2025-03-24 00:00:00</td>\n",
       "    </tr>\n",
       "    <tr>\n",
       "      <th>min</th>\n",
       "      <td>0.000000e+00</td>\n",
       "      <td>1.100000e+01</td>\n",
       "      <td>25.061625</td>\n",
       "      <td>1933-07-13 00:00:00</td>\n",
       "      <td>0.000000e+00</td>\n",
       "      <td>0.000000</td>\n",
       "      <td>0.000000</td>\n",
       "      <td>0.000000</td>\n",
       "      <td>2025-03-24 00:00:00</td>\n",
       "    </tr>\n",
       "    <tr>\n",
       "      <th>25%</th>\n",
       "      <td>0.000000e+00</td>\n",
       "      <td>6.393925e+04</td>\n",
       "      <td>48.224250</td>\n",
       "      <td>2009-07-04 06:00:00</td>\n",
       "      <td>0.000000e+00</td>\n",
       "      <td>94.750000</td>\n",
       "      <td>6.243500</td>\n",
       "      <td>78.500000</td>\n",
       "      <td>2025-03-24 00:00:00</td>\n",
       "    </tr>\n",
       "    <tr>\n",
       "      <th>50%</th>\n",
       "      <td>2.000000e+07</td>\n",
       "      <td>5.712645e+05</td>\n",
       "      <td>59.781188</td>\n",
       "      <td>2022-02-23 12:00:00</td>\n",
       "      <td>6.094703e+07</td>\n",
       "      <td>110.000000</td>\n",
       "      <td>7.046000</td>\n",
       "      <td>1771.500000</td>\n",
       "      <td>2025-03-24 00:00:00</td>\n",
       "    </tr>\n",
       "    <tr>\n",
       "      <th>75%</th>\n",
       "      <td>1.022500e+08</td>\n",
       "      <td>1.075539e+06</td>\n",
       "      <td>97.680750</td>\n",
       "      <td>2024-09-23 06:00:00</td>\n",
       "      <td>4.623667e+08</td>\n",
       "      <td>131.000000</td>\n",
       "      <td>7.630000</td>\n",
       "      <td>11673.000000</td>\n",
       "      <td>2025-03-24 00:00:00</td>\n",
       "    </tr>\n",
       "    <tr>\n",
       "      <th>max</th>\n",
       "      <td>4.600000e+08</td>\n",
       "      <td>1.450432e+06</td>\n",
       "      <td>1794.803500</td>\n",
       "      <td>2025-05-21 00:00:00</td>\n",
       "      <td>2.923706e+09</td>\n",
       "      <td>242.000000</td>\n",
       "      <td>10.000000</td>\n",
       "      <td>37221.000000</td>\n",
       "      <td>2025-03-24 00:00:00</td>\n",
       "    </tr>\n",
       "    <tr>\n",
       "      <th>std</th>\n",
       "      <td>8.231932e+07</td>\n",
       "      <td>4.866233e+05</td>\n",
       "      <td>174.108752</td>\n",
       "      <td>NaN</td>\n",
       "      <td>4.310022e+08</td>\n",
       "      <td>31.357294</td>\n",
       "      <td>1.614679</td>\n",
       "      <td>8366.438229</td>\n",
       "      <td>NaN</td>\n",
       "    </tr>\n",
       "  </tbody>\n",
       "</table>\n",
       "</div>"
      ],
      "text/plain": [
       "             budget            id   popularity         release_date  \\\n",
       "count  6.000000e+02  6.000000e+02   600.000000                  600   \n",
       "mean   6.203911e+07  6.032627e+05   111.425041  2015-03-28 21:55:12   \n",
       "min    0.000000e+00  1.100000e+01    25.061625  1933-07-13 00:00:00   \n",
       "25%    0.000000e+00  6.393925e+04    48.224250  2009-07-04 06:00:00   \n",
       "50%    2.000000e+07  5.712645e+05    59.781188  2022-02-23 12:00:00   \n",
       "75%    1.022500e+08  1.075539e+06    97.680750  2024-09-23 06:00:00   \n",
       "max    4.600000e+08  1.450432e+06  1794.803500  2025-05-21 00:00:00   \n",
       "std    8.231932e+07  4.866233e+05   174.108752                  NaN   \n",
       "\n",
       "            revenue     runtime  vote_average    vote_count  \\\n",
       "count  6.000000e+02  600.000000    600.000000    600.000000   \n",
       "mean   2.878245e+08  112.165000      6.720020   6486.865000   \n",
       "min    0.000000e+00    0.000000      0.000000      0.000000   \n",
       "25%    0.000000e+00   94.750000      6.243500     78.500000   \n",
       "50%    6.094703e+07  110.000000      7.046000   1771.500000   \n",
       "75%    4.623667e+08  131.000000      7.630000  11673.000000   \n",
       "max    2.923706e+09  242.000000     10.000000  37221.000000   \n",
       "std    4.310022e+08   31.357294      1.614679   8366.438229   \n",
       "\n",
       "            ingestion_date  \n",
       "count                  600  \n",
       "mean   2025-03-24 00:00:00  \n",
       "min    2025-03-24 00:00:00  \n",
       "25%    2025-03-24 00:00:00  \n",
       "50%    2025-03-24 00:00:00  \n",
       "75%    2025-03-24 00:00:00  \n",
       "max    2025-03-24 00:00:00  \n",
       "std                    NaN  "
      ]
     },
     "execution_count": 105,
     "metadata": {},
     "output_type": "execute_result"
    }
   ],
   "source": [
    "df.describe()"
   ]
  },
  {
   "cell_type": "markdown",
   "metadata": {},
   "source": [
    "### Top 5 Países que geraram mais receita com filmes"
   ]
  },
  {
   "cell_type": "code",
   "execution_count": 106,
   "metadata": {},
   "outputs": [
    {
     "data": {
      "text/html": [
       "<div>\n",
       "<style scoped>\n",
       "    .dataframe tbody tr th:only-of-type {\n",
       "        vertical-align: middle;\n",
       "    }\n",
       "\n",
       "    .dataframe tbody tr th {\n",
       "        vertical-align: top;\n",
       "    }\n",
       "\n",
       "    .dataframe thead th {\n",
       "        text-align: right;\n",
       "    }\n",
       "</style>\n",
       "<table border=\"1\" class=\"dataframe\">\n",
       "  <thead>\n",
       "    <tr style=\"text-align: right;\">\n",
       "      <th></th>\n",
       "      <th>country</th>\n",
       "      <th>revenue</th>\n",
       "    </tr>\n",
       "  </thead>\n",
       "  <tbody>\n",
       "    <tr>\n",
       "      <th>41</th>\n",
       "      <td>United States of America</td>\n",
       "      <td>130316885220</td>\n",
       "    </tr>\n",
       "    <tr>\n",
       "      <th>40</th>\n",
       "      <td>United Kingdom</td>\n",
       "      <td>21034146449</td>\n",
       "    </tr>\n",
       "    <tr>\n",
       "      <th>26</th>\n",
       "      <td>New Zealand</td>\n",
       "      <td>4798851931</td>\n",
       "    </tr>\n",
       "    <tr>\n",
       "      <th>6</th>\n",
       "      <td>China</td>\n",
       "      <td>4736296696</td>\n",
       "    </tr>\n",
       "    <tr>\n",
       "      <th>5</th>\n",
       "      <td>Canada</td>\n",
       "      <td>3381309165</td>\n",
       "    </tr>\n",
       "  </tbody>\n",
       "</table>\n",
       "</div>"
      ],
      "text/plain": [
       "                     country       revenue\n",
       "41  United States of America  130316885220\n",
       "40            United Kingdom   21034146449\n",
       "26               New Zealand    4798851931\n",
       "6                      China    4736296696\n",
       "5                     Canada    3381309165"
      ]
     },
     "execution_count": 106,
     "metadata": {},
     "output_type": "execute_result"
    }
   ],
   "source": [
    "top_5_revenue = df[[\"revenue\", \"country\"]]\n",
    "top_5_revenue = top_5_revenue.groupby([\"country\"])['revenue'].sum().reset_index()\n",
    "top_5_revenue = top_5_revenue.sort_values([\"revenue\"], ascending=False).head(5)\n",
    "top_5_revenue"
   ]
  },
  {
   "cell_type": "code",
   "execution_count": 107,
   "metadata": {},
   "outputs": [
    {
     "data": {
      "text/plain": [
       "<Axes: xlabel='country', ylabel='revenue'>"
      ]
     },
     "execution_count": 107,
     "metadata": {},
     "output_type": "execute_result"
    },
    {
     "data": {
      "image/png": "[encoded data removed]",
      "text/plain": [
       "<Figure size 1000x600 with 1 Axes>"
      ]
     },
     "metadata": {},
     "output_type": "display_data"
    }
   ],
   "source": [
    "plt.figure(figsize=(10,6))\n",
    "sns.barplot(data=top_5_revenue, x=\"country\", y=\"revenue\")"
   ]
  },
  {
   "cell_type": "markdown",
   "metadata": {},
   "source": [
    "### Budget dos filmes ao longo dos anos"
   ]
  },
  {
   "cell_type": "code",
   "execution_count": 110,
   "metadata": {},
   "outputs": [
    {
     "name": "stderr",
     "output_type": "stream",
     "text": [
      "/tmp/ipykernel_9856/2569910237.py:2: SettingWithCopyWarning: \n",
      "A value is trying to be set on a copy of a slice from a DataFrame.\n",
      "Try using .loc[row_indexer,col_indexer] = value instead\n",
      "\n",
      "See the caveats in the documentation: https://pandas.pydata.org/pandas-docs/stable/user_guide/indexing.html#returning-a-view-versus-a-copy\n",
      "  yearly_budget['year'] = df['release_date'].dt.year\n"
     ]
    },
    {
     "data": {
      "text/html": [
       "<div>\n",
       "<style scoped>\n",
       "    .dataframe tbody tr th:only-of-type {\n",
       "        vertical-align: middle;\n",
       "    }\n",
       "\n",
       "    .dataframe tbody tr th {\n",
       "        vertical-align: top;\n",
       "    }\n",
       "\n",
       "    .dataframe thead th {\n",
       "        text-align: right;\n",
       "    }\n",
       "</style>\n",
       "<table border=\"1\" class=\"dataframe\">\n",
       "  <thead>\n",
       "    <tr style=\"text-align: right;\">\n",
       "      <th></th>\n",
       "      <th>year</th>\n",
       "      <th>budget</th>\n",
       "    </tr>\n",
       "  </thead>\n",
       "  <tbody>\n",
       "    <tr>\n",
       "      <th>0</th>\n",
       "      <td>1933</td>\n",
       "      <td>187000</td>\n",
       "    </tr>\n",
       "    <tr>\n",
       "      <th>1</th>\n",
       "      <td>1938</td>\n",
       "      <td>1488423</td>\n",
       "    </tr>\n",
       "    <tr>\n",
       "      <th>2</th>\n",
       "      <td>1950</td>\n",
       "      <td>2900000</td>\n",
       "    </tr>\n",
       "    <tr>\n",
       "      <th>3</th>\n",
       "      <td>1953</td>\n",
       "      <td>0</td>\n",
       "    </tr>\n",
       "    <tr>\n",
       "      <th>4</th>\n",
       "      <td>1956</td>\n",
       "      <td>0</td>\n",
       "    </tr>\n",
       "  </tbody>\n",
       "</table>\n",
       "</div>"
      ],
      "text/plain": [
       "   year   budget\n",
       "0  1933   187000\n",
       "1  1938  1488423\n",
       "2  1950  2900000\n",
       "3  1953        0\n",
       "4  1956        0"
      ]
     },
     "execution_count": 110,
     "metadata": {},
     "output_type": "execute_result"
    }
   ],
   "source": [
    "yearly_budget = df[['release_date', 'budget']]\n",
    "yearly_budget['year'] = df['release_date'].dt.year\n",
    "yearly_budget = yearly_budget.groupby([\"year\"])[\"budget\"].sum().reset_index()\n",
    "yearly_budget.head()"
   ]
  },
  {
   "cell_type": "code",
   "execution_count": 111,
   "metadata": {},
   "outputs": [
    {
     "data": {
      "text/plain": [
       "<Axes: xlabel='year', ylabel='budget'>"
      ]
     },
     "execution_count": 111,
     "metadata": {},
     "output_type": "execute_result"
    },
    {
     "data": {
      "image/png": "[encoded data removed]",
      "text/plain": [
       "<Figure size 1000x600 with 1 Axes>"
      ]
     },
     "metadata": {},
     "output_type": "display_data"
    }
   ],
   "source": [
    "plt.figure(figsize=(10, 6))\n",
    "sns.lineplot(data=yearly_budget, x=\"year\", y=\"budget\")"
   ]
  },
  {
   "cell_type": "markdown",
   "metadata": {},
   "source": [
    "### Média de votos por gêneros de filmes"
   ]
  },
  {
   "cell_type": "code",
   "execution_count": 115,
   "metadata": {},
   "outputs": [
    {
     "data": {
      "text/html": [
       "<div>\n",
       "<style scoped>\n",
       "    .dataframe tbody tr th:only-of-type {\n",
       "        vertical-align: middle;\n",
       "    }\n",
       "\n",
       "    .dataframe tbody tr th {\n",
       "        vertical-align: top;\n",
       "    }\n",
       "\n",
       "    .dataframe thead th {\n",
       "        text-align: right;\n",
       "    }\n",
       "</style>\n",
       "<table border=\"1\" class=\"dataframe\">\n",
       "  <thead>\n",
       "    <tr style=\"text-align: right;\">\n",
       "      <th></th>\n",
       "      <th>genre</th>\n",
       "      <th>vote_average</th>\n",
       "    </tr>\n",
       "  </thead>\n",
       "  <tbody>\n",
       "    <tr>\n",
       "      <th>0</th>\n",
       "      <td>Action</td>\n",
       "      <td>6.912245</td>\n",
       "    </tr>\n",
       "    <tr>\n",
       "      <th>1</th>\n",
       "      <td>Adventure</td>\n",
       "      <td>7.491755</td>\n",
       "    </tr>\n",
       "    <tr>\n",
       "      <th>2</th>\n",
       "      <td>Animation</td>\n",
       "      <td>7.385137</td>\n",
       "    </tr>\n",
       "    <tr>\n",
       "      <th>3</th>\n",
       "      <td>Comedy</td>\n",
       "      <td>6.270136</td>\n",
       "    </tr>\n",
       "    <tr>\n",
       "      <th>4</th>\n",
       "      <td>Crime</td>\n",
       "      <td>7.365929</td>\n",
       "    </tr>\n",
       "  </tbody>\n",
       "</table>\n",
       "</div>"
      ],
      "text/plain": [
       "       genre  vote_average\n",
       "0     Action      6.912245\n",
       "1  Adventure      7.491755\n",
       "2  Animation      7.385137\n",
       "3     Comedy      6.270136\n",
       "4      Crime      7.365929"
      ]
     },
     "execution_count": 115,
     "metadata": {},
     "output_type": "execute_result"
    }
   ],
   "source": [
    "avg_vote_genre = df[['genre', 'vote_average']]\n",
    "avg_vote_genre = avg_vote_genre.groupby(['genre'])['vote_average'].mean().reset_index()\n",
    "avg_vote_genre.head()"
   ]
  },
  {
   "cell_type": "code",
   "execution_count": 118,
   "metadata": {},
   "outputs": [
    {
     "data": {
      "text/plain": [
       "<Axes: xlabel='vote_average', ylabel='genre'>"
      ]
     },
     "execution_count": 118,
     "metadata": {},
     "output_type": "execute_result"
    },
    {
     "data": {
      "image/png": "[encoded data removed]",
      "text/plain": [
       "<Figure size 640x480 with 1 Axes>"
      ]
     },
     "metadata": {},
     "output_type": "display_data"
    }
   ],
   "source": [
    "plt.Figure(figsize=(10,6))\n",
    "sns.barplot(data=avg_vote_genre,x=\"vote_average\",y=\"genre\", orient=\"y\", hue=\"genre\")"
   ]
  },
  {
   "cell_type": "markdown",
   "metadata": {},
   "source": [
    "### Correlação de features"
   ]
  },
  {
   "cell_type": "code",
   "execution_count": 113,
   "metadata": {},
   "outputs": [
    {
     "data": {
      "text/plain": [
       "<Axes: >"
      ]
     },
     "execution_count": 113,
     "metadata": {},
     "output_type": "execute_result"
    },
    {
     "data": {
      "image/png": "[encoded data removed]",
      "text/plain": [
       "<Figure size 1000x600 with 2 Axes>"
      ]
     },
     "metadata": {},
     "output_type": "display_data"
    }
   ],
   "source": [
    "df_numerico = df.select_dtypes(include='number')\n",
    "correlation = df_numerico.corr()\n",
    "\n",
    "plt.figure(figsize=(10, 6))\n",
    "sns.heatmap(data=correlation, annot=True, cmap='coolwarm', fmt=\".2f\")"
   ]
  }
 ],
 "metadata": {
  "kernelspec": {
   "display_name": "Python 3 (ipykernel)",
   "language": "python",
   "name": "python3"
  },
  "language_info": {
   "codemirror_mode": {
    "name": "ipython",
    "version": 3
   },
   "file_extension": ".py",
   "mimetype": "text/x-python",
   "name": "python",
   "nbconvert_exporter": "python",
   "pygments_lexer": "ipython3",
   "version": "3.12.3"
  }
 },
 "nbformat": 4,
 "nbformat_minor": 2
}
