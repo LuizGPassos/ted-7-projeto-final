{
 "cells": [
  {
   "cell_type": "markdown",
   "metadata": {},
   "source": [
    "# Imports e Dependências"
   ]
  },
  {
   "cell_type": "code",
   "execution_count": 45,
   "metadata": {},
   "outputs": [],
   "source": [
    "import pandas as pd\n",
    "import matplotlib.pyplot as plt\n",
    "import seaborn as sns\n",
    "import numpy as np"
   ]
  },
  {
   "cell_type": "markdown",
   "metadata": {},
   "source": [
    "# Dataset"
   ]
  },
  {
   "cell_type": "code",
   "execution_count": 46,
   "metadata": {},
   "outputs": [
    {
     "data": {
      "text/html": [
       "<div>\n",
       "<style scoped>\n",
       "    .dataframe tbody tr th:only-of-type {\n",
       "        vertical-align: middle;\n",
       "    }\n",
       "\n",
       "    .dataframe tbody tr th {\n",
       "        vertical-align: top;\n",
       "    }\n",
       "\n",
       "    .dataframe thead th {\n",
       "        text-align: right;\n",
       "    }\n",
       "</style>\n",
       "<table border=\"1\" class=\"dataframe\">\n",
       "  <thead>\n",
       "    <tr style=\"text-align: right;\">\n",
       "      <th></th>\n",
       "      <th>adult</th>\n",
       "      <th>budget</th>\n",
       "      <th>id</th>\n",
       "      <th>origin_country</th>\n",
       "      <th>original_language</th>\n",
       "      <th>original_title</th>\n",
       "      <th>overview</th>\n",
       "      <th>popularity</th>\n",
       "      <th>release_date</th>\n",
       "      <th>revenue</th>\n",
       "      <th>...</th>\n",
       "      <th>status</th>\n",
       "      <th>tagline</th>\n",
       "      <th>title</th>\n",
       "      <th>video</th>\n",
       "      <th>vote_average</th>\n",
       "      <th>vote_count</th>\n",
       "      <th>ingestion_date</th>\n",
       "      <th>genre</th>\n",
       "      <th>company</th>\n",
       "      <th>country</th>\n",
       "    </tr>\n",
       "  </thead>\n",
       "  <tbody>\n",
       "    <tr>\n",
       "      <th>0</th>\n",
       "      <td>False</td>\n",
       "      <td>0</td>\n",
       "      <td>1151470</td>\n",
       "      <td>['US']</td>\n",
       "      <td>en</td>\n",
       "      <td>The Vigilante</td>\n",
       "      <td>Returning from Afghanistan, Jessica, a Spec OP...</td>\n",
       "      <td>1718.486125</td>\n",
       "      <td>2023-09-08</td>\n",
       "      <td>0</td>\n",
       "      <td>...</td>\n",
       "      <td>Released</td>\n",
       "      <td>She will find you.</td>\n",
       "      <td>The Vigilante</td>\n",
       "      <td>False</td>\n",
       "      <td>5.850</td>\n",
       "      <td>20</td>\n",
       "      <td>2025-03-24</td>\n",
       "      <td>Thriller</td>\n",
       "      <td>Shattered Images Films</td>\n",
       "      <td>United States of America</td>\n",
       "    </tr>\n",
       "    <tr>\n",
       "      <th>1</th>\n",
       "      <td>False</td>\n",
       "      <td>0</td>\n",
       "      <td>1125899</td>\n",
       "      <td>['GB']</td>\n",
       "      <td>en</td>\n",
       "      <td>Cleaner</td>\n",
       "      <td>When a group of radical activists take over an...</td>\n",
       "      <td>1510.943375</td>\n",
       "      <td>2025-02-19</td>\n",
       "      <td>0</td>\n",
       "      <td>...</td>\n",
       "      <td>Released</td>\n",
       "      <td>The stakes are a thousand feet high.</td>\n",
       "      <td>Cleaner</td>\n",
       "      <td>False</td>\n",
       "      <td>5.800</td>\n",
       "      <td>46</td>\n",
       "      <td>2025-03-24</td>\n",
       "      <td>Action</td>\n",
       "      <td>Anton</td>\n",
       "      <td>United Kingdom</td>\n",
       "    </tr>\n",
       "    <tr>\n",
       "      <th>2</th>\n",
       "      <td>False</td>\n",
       "      <td>0</td>\n",
       "      <td>1301650</td>\n",
       "      <td>['MN']</td>\n",
       "      <td>mn</td>\n",
       "      <td>Z Zone</td>\n",
       "      <td>In a remote corner of the world, a group of tr...</td>\n",
       "      <td>1296.425625</td>\n",
       "      <td>2025-02-07</td>\n",
       "      <td>0</td>\n",
       "      <td>...</td>\n",
       "      <td>Released</td>\n",
       "      <td>NaN</td>\n",
       "      <td>Z Zone</td>\n",
       "      <td>False</td>\n",
       "      <td>7.600</td>\n",
       "      <td>9</td>\n",
       "      <td>2025-03-24</td>\n",
       "      <td>Horror</td>\n",
       "      <td>NaN</td>\n",
       "      <td>Mongolia</td>\n",
       "    </tr>\n",
       "    <tr>\n",
       "      <th>3</th>\n",
       "      <td>False</td>\n",
       "      <td>270000000</td>\n",
       "      <td>447273</td>\n",
       "      <td>['US']</td>\n",
       "      <td>en</td>\n",
       "      <td>Snow White</td>\n",
       "      <td>Princess Snow White flees the castle when the ...</td>\n",
       "      <td>1114.221625</td>\n",
       "      <td>2025-03-19</td>\n",
       "      <td>87000000</td>\n",
       "      <td>...</td>\n",
       "      <td>Released</td>\n",
       "      <td>The classic tale comes to life.</td>\n",
       "      <td>Snow White</td>\n",
       "      <td>False</td>\n",
       "      <td>4.664</td>\n",
       "      <td>256</td>\n",
       "      <td>2025-03-24</td>\n",
       "      <td>Family</td>\n",
       "      <td>Walt Disney Pictures</td>\n",
       "      <td>United States of America</td>\n",
       "    </tr>\n",
       "    <tr>\n",
       "      <th>4</th>\n",
       "      <td>False</td>\n",
       "      <td>180000000</td>\n",
       "      <td>822119</td>\n",
       "      <td>['US']</td>\n",
       "      <td>en</td>\n",
       "      <td>Captain America: Brave New World</td>\n",
       "      <td>After meeting with newly elected U.S. Presiden...</td>\n",
       "      <td>1794.803500</td>\n",
       "      <td>2025-02-12</td>\n",
       "      <td>400056272</td>\n",
       "      <td>...</td>\n",
       "      <td>Released</td>\n",
       "      <td>The future favors the brave.</td>\n",
       "      <td>Captain America: Brave New World</td>\n",
       "      <td>False</td>\n",
       "      <td>6.100</td>\n",
       "      <td>1090</td>\n",
       "      <td>2025-03-24</td>\n",
       "      <td>Action</td>\n",
       "      <td>Marvel Studios</td>\n",
       "      <td>United States of America</td>\n",
       "    </tr>\n",
       "  </tbody>\n",
       "</table>\n",
       "<p>5 rows × 22 columns</p>\n",
       "</div>"
      ],
      "text/plain": [
       "   adult     budget       id origin_country original_language  \\\n",
       "0  False          0  1151470         ['US']                en   \n",
       "1  False          0  1125899         ['GB']                en   \n",
       "2  False          0  1301650         ['MN']                mn   \n",
       "3  False  270000000   447273         ['US']                en   \n",
       "4  False  180000000   822119         ['US']                en   \n",
       "\n",
       "                     original_title  \\\n",
       "0                     The Vigilante   \n",
       "1                           Cleaner   \n",
       "2                            Z Zone   \n",
       "3                        Snow White   \n",
       "4  Captain America: Brave New World   \n",
       "\n",
       "                                            overview   popularity  \\\n",
       "0  Returning from Afghanistan, Jessica, a Spec OP...  1718.486125   \n",
       "1  When a group of radical activists take over an...  1510.943375   \n",
       "2  In a remote corner of the world, a group of tr...  1296.425625   \n",
       "3  Princess Snow White flees the castle when the ...  1114.221625   \n",
       "4  After meeting with newly elected U.S. Presiden...  1794.803500   \n",
       "\n",
       "  release_date    revenue  ...    status  \\\n",
       "0   2023-09-08          0  ...  Released   \n",
       "1   2025-02-19          0  ...  Released   \n",
       "2   2025-02-07          0  ...  Released   \n",
       "3   2025-03-19   87000000  ...  Released   \n",
       "4   2025-02-12  400056272  ...  Released   \n",
       "\n",
       "                                tagline                             title  \\\n",
       "0                    She will find you.                     The Vigilante   \n",
       "1  The stakes are a thousand feet high.                           Cleaner   \n",
       "2                                   NaN                            Z Zone   \n",
       "3       The classic tale comes to life.                        Snow White   \n",
       "4          The future favors the brave.  Captain America: Brave New World   \n",
       "\n",
       "   video vote_average  vote_count  ingestion_date     genre  \\\n",
       "0  False        5.850          20      2025-03-24  Thriller   \n",
       "1  False        5.800          46      2025-03-24    Action   \n",
       "2  False        7.600           9      2025-03-24    Horror   \n",
       "3  False        4.664         256      2025-03-24    Family   \n",
       "4  False        6.100        1090      2025-03-24    Action   \n",
       "\n",
       "                  company                   country  \n",
       "0  Shattered Images Films  United States of America  \n",
       "1                   Anton            United Kingdom  \n",
       "2                     NaN                  Mongolia  \n",
       "3    Walt Disney Pictures  United States of America  \n",
       "4          Marvel Studios  United States of America  \n",
       "\n",
       "[5 rows x 22 columns]"
      ]
     },
     "execution_count": 46,
     "metadata": {},
     "output_type": "execute_result"
    }
   ],
   "source": [
    "df = pd.read_csv('./dataset/movie_dataset_silver.csv')\n",
    "df = df.drop(columns=[\"Unnamed: 0\"])\n",
    "df.head()"
   ]
  },
  {
   "cell_type": "code",
   "execution_count": 47,
   "metadata": {},
   "outputs": [
    {
     "data": {
      "text/html": [
       "<div>\n",
       "<style scoped>\n",
       "    .dataframe tbody tr th:only-of-type {\n",
       "        vertical-align: middle;\n",
       "    }\n",
       "\n",
       "    .dataframe tbody tr th {\n",
       "        vertical-align: top;\n",
       "    }\n",
       "\n",
       "    .dataframe thead th {\n",
       "        text-align: right;\n",
       "    }\n",
       "</style>\n",
       "<table border=\"1\" class=\"dataframe\">\n",
       "  <thead>\n",
       "    <tr style=\"text-align: right;\">\n",
       "      <th></th>\n",
       "      <th>X</th>\n",
       "      <th>Y</th>\n",
       "    </tr>\n",
       "  </thead>\n",
       "  <tbody>\n",
       "    <tr>\n",
       "      <th>0</th>\n",
       "      <td>0</td>\n",
       "      <td>0</td>\n",
       "    </tr>\n",
       "    <tr>\n",
       "      <th>1</th>\n",
       "      <td>0</td>\n",
       "      <td>0</td>\n",
       "    </tr>\n",
       "    <tr>\n",
       "      <th>2</th>\n",
       "      <td>0</td>\n",
       "      <td>0</td>\n",
       "    </tr>\n",
       "    <tr>\n",
       "      <th>3</th>\n",
       "      <td>270000000</td>\n",
       "      <td>87000000</td>\n",
       "    </tr>\n",
       "    <tr>\n",
       "      <th>4</th>\n",
       "      <td>180000000</td>\n",
       "      <td>400056272</td>\n",
       "    </tr>\n",
       "  </tbody>\n",
       "</table>\n",
       "</div>"
      ],
      "text/plain": [
       "           X          Y\n",
       "0          0          0\n",
       "1          0          0\n",
       "2          0          0\n",
       "3  270000000   87000000\n",
       "4  180000000  400056272"
      ]
     },
     "execution_count": 47,
     "metadata": {},
     "output_type": "execute_result"
    }
   ],
   "source": [
    "df_rl = pd.DataFrame()\n",
    "df_rl['X'] = df['budget']\n",
    "df_rl['Y'] = df['revenue'] \n",
    "df_rl.head()"
   ]
  },
  {
   "cell_type": "markdown",
   "metadata": {},
   "source": [
    "# Regressão Linear"
   ]
  },
  {
   "cell_type": "markdown",
   "metadata": {},
   "source": [
    "### Cálculo de média"
   ]
  },
  {
   "cell_type": "code",
   "execution_count": 48,
   "metadata": {},
   "outputs": [
    {
     "name": "stdout",
     "output_type": "stream",
     "text": [
      "Média do X: 62039105.29\n",
      "Média do Y: 287824472.3983333\n"
     ]
    }
   ],
   "source": [
    "avg_x = np.average(df_rl['X'])\n",
    "print('Média do X:', avg_x)\n",
    "\n",
    "avg_y = np.average(df_rl['Y'])\n",
    "print('Média do Y:', avg_y)"
   ]
  },
  {
   "cell_type": "markdown",
   "metadata": {},
   "source": [
    "### Cálculo de Variância"
   ]
  },
  {
   "cell_type": "code",
   "execution_count": 49,
   "metadata": {},
   "outputs": [
    {
     "name": "stdout",
     "output_type": "stream",
     "text": [
      "Variância do X: 6765177063289437.0\n"
     ]
    }
   ],
   "source": [
    "x_data = []\n",
    "\n",
    "for i in df_rl['X']:\n",
    "    x_value = np.power((i-avg_x),2)\n",
    "    x_data.append(x_value)\n",
    "\n",
    "var_x = sum(x_data) / len(x_data)\n",
    "\n",
    "print('Variância do X:', var_x)"
   ]
  },
  {
   "cell_type": "code",
   "execution_count": 50,
   "metadata": {},
   "outputs": [
    {
     "name": "stdout",
     "output_type": "stream",
     "text": [
      "Variância do Y: 1.8545331883806387e+17\n"
     ]
    }
   ],
   "source": [
    "y_data = []\n",
    "\n",
    "for i in df_rl['Y']:\n",
    "    y_value = np.power((i-avg_y), 2)\n",
    "    y_data.append(y_value)\n",
    "\n",
    "var_y = sum(y_data) / len(y_data)\n",
    "\n",
    "print('Variância do Y:', var_y)"
   ]
  },
  {
   "cell_type": "markdown",
   "metadata": {},
   "source": [
    "### Cálculo de covariância"
   ]
  },
  {
   "cell_type": "code",
   "execution_count": 51,
   "metadata": {},
   "outputs": [
    {
     "name": "stdout",
     "output_type": "stream",
     "text": [
      "Covariância entre X e Y: 2.6785859642609812e+16\n"
     ]
    }
   ],
   "source": [
    "x_data = np.zeros(len(df_rl['X']))\n",
    "\n",
    "for j,i in enumerate(df_rl['X']):\n",
    "    x_value = i-avg_x\n",
    "    x_data[j] = x_value\n",
    "\n",
    "y_data = np.zeros(len(df_rl['Y']))\n",
    "\n",
    "for j,i in enumerate(df_rl['Y']):\n",
    "    y_value = i-avg_y\n",
    "    y_data[j] = y_value\n",
    "\n",
    "cov = (sum(x_data * y_data)) / (len(x_data))\n",
    "\n",
    "print('Covariância entre X e Y:', cov)"
   ]
  },
  {
   "cell_type": "markdown",
   "metadata": {},
   "source": [
    "### Estimativa de coeficientes"
   ]
  },
  {
   "cell_type": "code",
   "execution_count": 52,
   "metadata": {},
   "outputs": [
    {
     "name": "stdout",
     "output_type": "stream",
     "text": [
      "Coeficiente Angular: 3.959373035180502\n",
      "Intercepto: 42188511.78638327\n"
     ]
    }
   ],
   "source": [
    "b1 = cov / var_x\n",
    "print('Coeficiente Angular:', b1)\n",
    "\n",
    "b0 = avg_y - (b1 * avg_x)\n",
    "print('Intercepto:', b0)"
   ]
  },
  {
   "cell_type": "markdown",
   "metadata": {},
   "source": [
    "### Previsões"
   ]
  },
  {
   "cell_type": "code",
   "execution_count": 53,
   "metadata": {},
   "outputs": [
    {
     "name": "stdout",
     "output_type": "stream",
     "text": [
      "0      4.218851e+07\n",
      "1      4.218851e+07\n",
      "2      4.218851e+07\n",
      "3      1.111219e+09\n",
      "4      7.548757e+08\n",
      "           ...     \n",
      "595    4.218851e+07\n",
      "596    5.367069e+07\n",
      "597    1.609697e+08\n",
      "598    1.032032e+09\n",
      "599    6.000569e+07\n",
      "Name: X, Length: 600, dtype: float64\n"
     ]
    }
   ],
   "source": [
    "prv = b0 + (b1 * df_rl['X'])\n",
    "print(prv)"
   ]
  },
  {
   "cell_type": "markdown",
   "metadata": {},
   "source": [
    "# Visualização Gráfica"
   ]
  },
  {
   "cell_type": "code",
   "execution_count": 54,
   "metadata": {},
   "outputs": [
    {
     "data": {
      "text/plain": [
       "[<matplotlib.lines.Line2D at 0x731108309a60>]"
      ]
     },
     "execution_count": 54,
     "metadata": {},
     "output_type": "execute_result"
    },
    {
     "data": {
      "image/png": "[encoded data removed]",
      "text/plain": [
       "<Figure size 640x480 with 1 Axes>"
      ]
     },
     "metadata": {},
     "output_type": "display_data"
    }
   ],
   "source": [
    "reg = plt.scatter(df_rl['X'], df_rl['Y'], label='Dados reais')\n",
    "\n",
    "plt.plot(df_rl['X'], prv, color='red', label='Linha de previsão')"
   ]
  }
 ],
 "metadata": {
  "kernelspec": {
   "display_name": "Python 3 (ipykernel)",
   "language": "python",
   "name": "python3"
  },
  "language_info": {
   "codemirror_mode": {
    "name": "ipython",
    "version": 3
   },
   "file_extension": ".py",
   "mimetype": "text/x-python",
   "name": "python",
   "nbconvert_exporter": "python",
   "pygments_lexer": "ipython3",
   "version": "3.12.3"
  }
 },
 "nbformat": 4,
 "nbformat_minor": 2
}
